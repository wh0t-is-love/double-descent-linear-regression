{
  "nbformat": 4,
  "nbformat_minor": 0,
  "metadata": {
    "colab": {
      "provenance": []
    },
    "kernelspec": {
      "name": "python3",
      "display_name": "Python 3"
    },
    "language_info": {
      "name": "python"
    },
    "widgets": {
      "application/vnd.jupyter.widget-state+json": {
        "69c0130d39f547ef81f53124ec994824": {
          "model_module": "@jupyter-widgets/controls",
          "model_name": "HBoxModel",
          "model_module_version": "1.5.0",
          "state": {
            "_dom_classes": [],
            "_model_module": "@jupyter-widgets/controls",
            "_model_module_version": "1.5.0",
            "_model_name": "HBoxModel",
            "_view_count": null,
            "_view_module": "@jupyter-widgets/controls",
            "_view_module_version": "1.5.0",
            "_view_name": "HBoxView",
            "box_style": "",
            "children": [
              "IPY_MODEL_ab1468425ef54fdb98c1c0af62f8e273",
              "IPY_MODEL_63d20c7e5d3f44019a662cec5c03f297",
              "IPY_MODEL_cd4fadb1f6294bae9adf342826d5ac12"
            ],
            "layout": "IPY_MODEL_8741a2ed41ae4f2cb2477b11653ffb28"
          }
        },
        "ab1468425ef54fdb98c1c0af62f8e273": {
          "model_module": "@jupyter-widgets/controls",
          "model_name": "HTMLModel",
          "model_module_version": "1.5.0",
          "state": {
            "_dom_classes": [],
            "_model_module": "@jupyter-widgets/controls",
            "_model_module_version": "1.5.0",
            "_model_name": "HTMLModel",
            "_view_count": null,
            "_view_module": "@jupyter-widgets/controls",
            "_view_module_version": "1.5.0",
            "_view_name": "HTMLView",
            "description": "",
            "description_tooltip": null,
            "layout": "IPY_MODEL_3fd54f9f641e4f8f8e03c076e862e66e",
            "placeholder": "​",
            "style": "IPY_MODEL_8e7bcc8fb42f45ee87c8f9ecfc3a1f7d",
            "value": "100%"
          }
        },
        "63d20c7e5d3f44019a662cec5c03f297": {
          "model_module": "@jupyter-widgets/controls",
          "model_name": "FloatProgressModel",
          "model_module_version": "1.5.0",
          "state": {
            "_dom_classes": [],
            "_model_module": "@jupyter-widgets/controls",
            "_model_module_version": "1.5.0",
            "_model_name": "FloatProgressModel",
            "_view_count": null,
            "_view_module": "@jupyter-widgets/controls",
            "_view_module_version": "1.5.0",
            "_view_name": "ProgressView",
            "bar_style": "success",
            "description": "",
            "description_tooltip": null,
            "layout": "IPY_MODEL_2aa88361af8944ab839b2e875c97dd9d",
            "max": 99,
            "min": 0,
            "orientation": "horizontal",
            "style": "IPY_MODEL_93c000ecb16e497c8ee056447464c0f1",
            "value": 99
          }
        },
        "cd4fadb1f6294bae9adf342826d5ac12": {
          "model_module": "@jupyter-widgets/controls",
          "model_name": "HTMLModel",
          "model_module_version": "1.5.0",
          "state": {
            "_dom_classes": [],
            "_model_module": "@jupyter-widgets/controls",
            "_model_module_version": "1.5.0",
            "_model_name": "HTMLModel",
            "_view_count": null,
            "_view_module": "@jupyter-widgets/controls",
            "_view_module_version": "1.5.0",
            "_view_name": "HTMLView",
            "description": "",
            "description_tooltip": null,
            "layout": "IPY_MODEL_f8c015c28b2e42a1ae7fea28b64bad70",
            "placeholder": "​",
            "style": "IPY_MODEL_8cdbeed09d264aa590bb316ee560fe3a",
            "value": " 99/99 [05:31&lt;00:00, 11.02s/it]"
          }
        },
        "8741a2ed41ae4f2cb2477b11653ffb28": {
          "model_module": "@jupyter-widgets/base",
          "model_name": "LayoutModel",
          "model_module_version": "1.2.0",
          "state": {
            "_model_module": "@jupyter-widgets/base",
            "_model_module_version": "1.2.0",
            "_model_name": "LayoutModel",
            "_view_count": null,
            "_view_module": "@jupyter-widgets/base",
            "_view_module_version": "1.2.0",
            "_view_name": "LayoutView",
            "align_content": null,
            "align_items": null,
            "align_self": null,
            "border": null,
            "bottom": null,
            "display": null,
            "flex": null,
            "flex_flow": null,
            "grid_area": null,
            "grid_auto_columns": null,
            "grid_auto_flow": null,
            "grid_auto_rows": null,
            "grid_column": null,
            "grid_gap": null,
            "grid_row": null,
            "grid_template_areas": null,
            "grid_template_columns": null,
            "grid_template_rows": null,
            "height": null,
            "justify_content": null,
            "justify_items": null,
            "left": null,
            "margin": null,
            "max_height": null,
            "max_width": null,
            "min_height": null,
            "min_width": null,
            "object_fit": null,
            "object_position": null,
            "order": null,
            "overflow": null,
            "overflow_x": null,
            "overflow_y": null,
            "padding": null,
            "right": null,
            "top": null,
            "visibility": null,
            "width": null
          }
        },
        "3fd54f9f641e4f8f8e03c076e862e66e": {
          "model_module": "@jupyter-widgets/base",
          "model_name": "LayoutModel",
          "model_module_version": "1.2.0",
          "state": {
            "_model_module": "@jupyter-widgets/base",
            "_model_module_version": "1.2.0",
            "_model_name": "LayoutModel",
            "_view_count": null,
            "_view_module": "@jupyter-widgets/base",
            "_view_module_version": "1.2.0",
            "_view_name": "LayoutView",
            "align_content": null,
            "align_items": null,
            "align_self": null,
            "border": null,
            "bottom": null,
            "display": null,
            "flex": null,
            "flex_flow": null,
            "grid_area": null,
            "grid_auto_columns": null,
            "grid_auto_flow": null,
            "grid_auto_rows": null,
            "grid_column": null,
            "grid_gap": null,
            "grid_row": null,
            "grid_template_areas": null,
            "grid_template_columns": null,
            "grid_template_rows": null,
            "height": null,
            "justify_content": null,
            "justify_items": null,
            "left": null,
            "margin": null,
            "max_height": null,
            "max_width": null,
            "min_height": null,
            "min_width": null,
            "object_fit": null,
            "object_position": null,
            "order": null,
            "overflow": null,
            "overflow_x": null,
            "overflow_y": null,
            "padding": null,
            "right": null,
            "top": null,
            "visibility": null,
            "width": null
          }
        },
        "8e7bcc8fb42f45ee87c8f9ecfc3a1f7d": {
          "model_module": "@jupyter-widgets/controls",
          "model_name": "DescriptionStyleModel",
          "model_module_version": "1.5.0",
          "state": {
            "_model_module": "@jupyter-widgets/controls",
            "_model_module_version": "1.5.0",
            "_model_name": "DescriptionStyleModel",
            "_view_count": null,
            "_view_module": "@jupyter-widgets/base",
            "_view_module_version": "1.2.0",
            "_view_name": "StyleView",
            "description_width": ""
          }
        },
        "2aa88361af8944ab839b2e875c97dd9d": {
          "model_module": "@jupyter-widgets/base",
          "model_name": "LayoutModel",
          "model_module_version": "1.2.0",
          "state": {
            "_model_module": "@jupyter-widgets/base",
            "_model_module_version": "1.2.0",
            "_model_name": "LayoutModel",
            "_view_count": null,
            "_view_module": "@jupyter-widgets/base",
            "_view_module_version": "1.2.0",
            "_view_name": "LayoutView",
            "align_content": null,
            "align_items": null,
            "align_self": null,
            "border": null,
            "bottom": null,
            "display": null,
            "flex": null,
            "flex_flow": null,
            "grid_area": null,
            "grid_auto_columns": null,
            "grid_auto_flow": null,
            "grid_auto_rows": null,
            "grid_column": null,
            "grid_gap": null,
            "grid_row": null,
            "grid_template_areas": null,
            "grid_template_columns": null,
            "grid_template_rows": null,
            "height": null,
            "justify_content": null,
            "justify_items": null,
            "left": null,
            "margin": null,
            "max_height": null,
            "max_width": null,
            "min_height": null,
            "min_width": null,
            "object_fit": null,
            "object_position": null,
            "order": null,
            "overflow": null,
            "overflow_x": null,
            "overflow_y": null,
            "padding": null,
            "right": null,
            "top": null,
            "visibility": null,
            "width": null
          }
        },
        "93c000ecb16e497c8ee056447464c0f1": {
          "model_module": "@jupyter-widgets/controls",
          "model_name": "ProgressStyleModel",
          "model_module_version": "1.5.0",
          "state": {
            "_model_module": "@jupyter-widgets/controls",
            "_model_module_version": "1.5.0",
            "_model_name": "ProgressStyleModel",
            "_view_count": null,
            "_view_module": "@jupyter-widgets/base",
            "_view_module_version": "1.2.0",
            "_view_name": "StyleView",
            "bar_color": null,
            "description_width": ""
          }
        },
        "f8c015c28b2e42a1ae7fea28b64bad70": {
          "model_module": "@jupyter-widgets/base",
          "model_name": "LayoutModel",
          "model_module_version": "1.2.0",
          "state": {
            "_model_module": "@jupyter-widgets/base",
            "_model_module_version": "1.2.0",
            "_model_name": "LayoutModel",
            "_view_count": null,
            "_view_module": "@jupyter-widgets/base",
            "_view_module_version": "1.2.0",
            "_view_name": "LayoutView",
            "align_content": null,
            "align_items": null,
            "align_self": null,
            "border": null,
            "bottom": null,
            "display": null,
            "flex": null,
            "flex_flow": null,
            "grid_area": null,
            "grid_auto_columns": null,
            "grid_auto_flow": null,
            "grid_auto_rows": null,
            "grid_column": null,
            "grid_gap": null,
            "grid_row": null,
            "grid_template_areas": null,
            "grid_template_columns": null,
            "grid_template_rows": null,
            "height": null,
            "justify_content": null,
            "justify_items": null,
            "left": null,
            "margin": null,
            "max_height": null,
            "max_width": null,
            "min_height": null,
            "min_width": null,
            "object_fit": null,
            "object_position": null,
            "order": null,
            "overflow": null,
            "overflow_x": null,
            "overflow_y": null,
            "padding": null,
            "right": null,
            "top": null,
            "visibility": null,
            "width": null
          }
        },
        "8cdbeed09d264aa590bb316ee560fe3a": {
          "model_module": "@jupyter-widgets/controls",
          "model_name": "DescriptionStyleModel",
          "model_module_version": "1.5.0",
          "state": {
            "_model_module": "@jupyter-widgets/controls",
            "_model_module_version": "1.5.0",
            "_model_name": "DescriptionStyleModel",
            "_view_count": null,
            "_view_module": "@jupyter-widgets/base",
            "_view_module_version": "1.2.0",
            "_view_name": "StyleView",
            "description_width": ""
          }
        }
      }
    }
  },
  "cells": [
    {
      "cell_type": "markdown",
      "source": [
        "Давайте выведем формулы для дисперсии и смещения.\n",
        "Ответ для дисперсии:\n",
        "\n",
        "$E_xE_X[a(x, X) - E_X[a(x, X)]]^2$\n",
        "\n",
        "Для смещения:\n",
        "\n",
        "$E_x(f(x) - E_X[a(x, X)])^2$\n",
        "\n",
        "где x - какой-то тест, X - тренировочная выборка. a(x, X) - решение на x тесте при обучении на тестовой выборке X, E_x - матожидание по тестам, E_X - матожидание по обучающей выборке.\n",
        "\n",
        "Вывод:\n",
        "\n",
        "На одном объекте функция потерь равна $MSE = (y(x) - a(x))^2$. Но нужно рассматривать на более общих понятиях, чем один объект. $a$ также должно зависеть от обучающей выборки и таргет y зависит от шума, поэтому оценкой будет:\n",
        "$E_xE_XE_{\\epsilon}[y(x, ϵ) - a(x, X)]^2$\n",
        "\n",
        "$$E_XE_{ϵ}[y(x, ϵ) - a(x, X)]^2 = E_XE_{ϵ}[f(x) + ϵ - a(x, X)]^2 =$$ \n",
        "$$= E_XE_{ϵ}[(f(x) - a(x, X))^2 + 2ϵ(f(x) - a(x, X)) + ϵ^2] = $$\n",
        "$$= E_X[(f(x) - a(x, X))^2] + 2E_ϵ[ϵ]*E_X[f(x) - a(x, X)] + E_ϵϵ^2 = $$\n",
        "$$= E_X[(f(x) - a(x, X))^2] + σ^2$$\n",
        "\n",
        "$\\sigma^2$ - шум\n",
        "\n",
        "$$E_X[(f(x) - a(x, X))^2] = $$\n",
        "$ = ${прибавим и вычтем $E_X[a(x, X)]$}$ = $ \n",
        "$$= E_X[(f(x) + E_X[a(x, X)] - E_X[a(x, X)] - a(x, X))^2] = $$\n",
        "$$= E_X[(f(x) - E_X[a(x, X)])^2] + E_X[(a(x, X) - E_X[a(x, X)])^2] + 2E_X[(f(x) - E_X[a(x, X)])(E_X[a(x, X)] - a(x, X))] = $$\n",
        "$$= (f(x) - E_X[a(x, X)])^2 + E_X[(a(x, X) - E_X[a(x, X)])^2] + 2(f(x) - E_X[a(x, X)])(E_X[a(x, X)] - E_X[a(x, X)]) = $$\n",
        "$$= (f(x) - E_X[a(x, X)])^2 + E_X[(a(x, X) - E_X[a(x, X)])^2]$$\n",
        "\n",
        "Вернемся к формуле:\n",
        "\n",
        "$E_xE_XE_{\\epsilon}[y(x, ϵ) - a(x, X)]^2 = E_x(f(x) - E_X[a(x, X)])^2 + E_xE_X[(a(x, X) - E_X[a(x, X)])^2] + \\sigma^2$\n",
        "\n",
        "Первое слагаемое - смещение, второе - дисперсия, третье - шум.\n",
        "Найдем дисперсию."
      ],
      "metadata": {
        "id": "9yW2oPD6lXlZ"
      }
    },
    {
      "cell_type": "markdown",
      "source": [
        "Теперь по алгоритму. Как это можно реализовать? Будем при фиксированном количестве признаков фиксировать тестовую выборку и создавать новые и новые тренировочные выборки а потом брать среднее. Так можно найти $E_X$. Потом просто возьмем среднее по этой тестовой выборке (матожидание по тесту, т.е. E_x)"
      ],
      "metadata": {
        "id": "aUAgnGnj8CIw"
      }
    },
    {
      "cell_type": "markdown",
      "source": [
        "#Вспомогательные функции и классы"
      ],
      "metadata": {
        "id": "OxLufH1iaLKz"
      }
    },
    {
      "cell_type": "markdown",
      "metadata": {
        "id": "9yiqkof-HBBe"
      },
      "source": [
        "##Датасет"
      ]
    },
    {
      "cell_type": "code",
      "execution_count": 30,
      "metadata": {
        "id": "CxrG4ZDyG7-J"
      },
      "outputs": [],
      "source": [
        "import numpy as np\n",
        "import pandas as pd\n",
        "import matplotlib.pyplot as plt\n",
        "def make_dataset(num_elements = 50, noise = True):\n",
        "    #Пока не будем менять константы, если будет нужно, модернизируем функцию\n",
        "    a = 20\n",
        "    b = 3 \n",
        "    c = 4\n",
        "\n",
        "    x0 = 1\n",
        "    y0 = 2\n",
        "    z0 = 3\n",
        "\n",
        "    norm = np.array([a, b, c])\n",
        "    point = np.array([x0, y0, z0])\n",
        "    #Получим d\n",
        "    d = -point.dot(norm)\n",
        "    #Построим точки для плоскости\n",
        "\n",
        "    left_border_plane = -100\n",
        "    right_border_plane = 100\n",
        "\n",
        "    x = np.linspace(left_border_plane, right_border_plane, num_elements)\n",
        "    y = np.linspace(left_border_plane, right_border_plane, num_elements)\n",
        "\n",
        "    X, Y = np.meshgrid(x, y)\n",
        "\n",
        "    Z = (-a * X - b * Y - d) * 1. / c\n",
        "\n",
        "    #Растянем наши матрицы в одномерный массив\n",
        "    x_data = X.ravel()\n",
        "    y_data = Y.ravel()\n",
        "    z_data = Z.ravel()\n",
        "\n",
        "    n = num_elements * num_elements\n",
        "    #Добавим шума\n",
        "    if noise:\n",
        "      x_data = x_data + 5 * np.random.randn(n)\n",
        "      y_data = y_data + 5 * np.random.randn(n)\n",
        "      z_data = z_data + np.random.randn(n)\n",
        "\n",
        "    #Составим матрицу признаков\n",
        "    data = pd.DataFrame({'x' : x_data, 'y' : y_data, 'z' : z_data})\n",
        "    #Перемешаем данные (можно этого и не делать, потому что далее train_test_split все перемешает, но на всякий случаем сделаем)\n",
        "    data = data.sample(frac = 1)\n",
        "    #Разделим выборку на признаки и таргет\n",
        "    Fich = data.iloc[ : , : -1]\n",
        "    target = data['z']\n",
        "    return Fich, target, left_border_plane, right_border_plane"
      ]
    },
    {
      "cell_type": "markdown",
      "source": [
        "## Класс аналитического решения"
      ],
      "metadata": {
        "id": "5yHCnzvqbwCA"
      }
    },
    {
      "cell_type": "code",
      "source": [
        "class MyLinearRegression:\n",
        "    def __init__(self, fit_intercept=True):\n",
        "        self.fit_intercept = fit_intercept\n",
        "\n",
        "    def fit(self, X, y):\n",
        "        n, k = X.shape\n",
        "        X_ = X\n",
        "        #Не забудем про фиктивный признак равный 1\n",
        "        if self.fit_intercept:\n",
        "            X_ = np.hstack((X, np.ones((n, 1))))\n",
        "        self.w = np.linalg.pinv(X_.T @ X_) @ (X_.T @ y)\n",
        "        return self\n",
        "        \n",
        "    def predict(self, X):\n",
        "        n, k = X.shape\n",
        "        #Не забудем про фиктивный признак равный 1\n",
        "        X_ = X\n",
        "        if self.fit_intercept:\n",
        "            X_ = np.hstack((X, np.ones((n, 1))))\n",
        "\n",
        "        y_pred = X_ @ self.w\n",
        "\n",
        "        return y_pred\n",
        "    #функция возвращающая веса\n",
        "    def get_weights(self):\n",
        "        return self.w\n",
        "        "
      ],
      "metadata": {
        "id": "LxAFreS3L6gP"
      },
      "execution_count": 31,
      "outputs": []
    },
    {
      "cell_type": "markdown",
      "source": [
        "## Вспомогательная функция"
      ],
      "metadata": {
        "id": "hw1jjtpJbfRy"
      }
    },
    {
      "cell_type": "code",
      "source": [
        "import numpy as np\n",
        "import pandas as pd\n",
        "def make_range(arr):\n",
        "  '''arr:\n",
        "  array of [left, right, step]\n",
        "  '''\n",
        "  ans = []\n",
        "  for new in arr:\n",
        "    for i in range(new[0], new[1] - new[2], new[2]):\n",
        "      ans.append([i, new[2]])\n",
        "  return ans"
      ],
      "metadata": {
        "id": "2c_r1PZB8Zph"
      },
      "execution_count": 32,
      "outputs": []
    },
    {
      "cell_type": "code",
      "source": [
        "#Немного модифицируем нашу функцию. Теперь она также будет возвращать веса в нужном режиме работы (mode)\n",
        "from sklearn.model_selection import train_test_split\n",
        "from sklearn.metrics import mean_squared_error\n",
        "\n",
        "\n",
        "import numpy as np\n",
        "import pandas as pd\n",
        "import matplotlib.pyplot as plt\n",
        "\n",
        "from tqdm.notebook import tqdm\n",
        "\n",
        "def MSE_and_weights(Fich_original, target_original, iters = None, step = 1, rand_size = 1, lr = 0.01, max_iter = 1000, ret = 0, regressor_type = 0, left_border = 0, right_border = 1000):  \n",
        "  '''\n",
        "  ret:\n",
        "  (0) MSE and weights returned\n",
        "  (1) only MSE returned\n",
        "  (2) only weights returned\n",
        "  '''\n",
        "  \n",
        "  '''\n",
        "  regressor_type:\n",
        "  (0) analitic\n",
        "  (1) gradient descent\n",
        "  (2) stochastic gradient descent\n",
        "  '''\n",
        "\n",
        "  Fich_copy = Fich_original.copy()\n",
        "  target = target_original.copy()\n",
        "\n",
        "  n, _ = Fich_copy.shape\n",
        "\n",
        "  weights = []\n",
        "  inter = []\n",
        "  MSE_train = []\n",
        "  MSE_test = []\n",
        "  num_iter = []\n",
        "  variance_arr = []\n",
        "  bias_arr = []\n",
        "\n",
        "  if iters == None:\n",
        "    iters = []\n",
        "    for i in range(left_border, right_border, step):\n",
        "      iters.append([i, step])\n",
        "\n",
        "  if left_border > 0:\n",
        "    new_elem = rand_size * np.random.randn(n, left_border)\n",
        "    names = [str(i) for i in range(left_border)]\n",
        "    df = pd.DataFrame(new_elem, columns=names, index=range(n))\n",
        "    Fich = pd.concat([Fich, df], axis=1)\n",
        "  \n",
        "  number_pr = 0\n",
        "  for i, step in tqdm(iters):\n",
        "      number_pr += 1\n",
        "      if number_pr > 2:\n",
        "        #Генерируем новые столбцы\n",
        "        new_elem = rand_size * np.random.randn(n, step)\n",
        "        names = [str(k) for k in range(i, i + step)]\n",
        "        df = pd.DataFrame(new_elem, columns=names, index=range(n))\n",
        "        Fich = pd.concat([Fich, df], axis=1)\n",
        "      else:\n",
        "        if number_pr == 1:\n",
        "          Fich = pd.DataFrame(Fich_copy['x'])\n",
        "        else:\n",
        "          Fich = Fich_copy\n",
        "      #Начинаем обучение\n",
        "      X_train, X_test, target_train, target_test = train_test_split(Fich.to_numpy(), target.to_numpy(), test_size=0.3)\n",
        "      \n",
        "      #type of regressor\n",
        "      if regressor_type == 0:\n",
        "          regressor = MyLinearRegression()\n",
        "      elif regressor_type == 1:\n",
        "          regressor = MyGradientLinearRegression()\n",
        "      else:\n",
        "          regressor = MySGDLinearRegression()\n",
        "      \n",
        "      #fit\n",
        "      if regressor_type == 0:\n",
        "          regressor.fit(X_train, target_train)\n",
        "      else:\n",
        "          regressor.fit(X_train, target_train, lr = lr, max_iter = max_iter)\n",
        "      \n",
        "      train_predictions = regressor.predict(X_train)\n",
        "      test_predictions = regressor.predict(X_test)\n",
        "      \n",
        "      MSE_train.append(mean_squared_error(target_train, train_predictions))\n",
        "      MSE_test.append(mean_squared_error(target_test, test_predictions))\n",
        "      tmp = regressor.get_weights()\n",
        "      weights.append(tmp[:-1])\n",
        "      inter.append(tmp[-1])\n",
        "      num_iter.append(X_train.shape[1])\n",
        "\n",
        "\n",
        "\n",
        "      #let's find variance\n",
        "      col = X_train.shape[1] - 2\n",
        "      num_var_iter = 10\n",
        "      num_elements = 20\n",
        "      mid = None\n",
        "      first_var = True\n",
        "      for zzz in range(num_var_iter):\n",
        "          Fich_var, target_var, _, _ = make_dataset(num_elements)\n",
        "          Fich_var_copy = Fich_var.copy()\n",
        "          if number_pr > 2:\n",
        "            #Генерируем новые столбцы\n",
        "            new_elem = rand_size * np.random.randn(n, col)\n",
        "            names = [str(k) for k in range(col)]\n",
        "            df = pd.DataFrame(new_elem, columns=names, index=range(n))\n",
        "            Fich_var = pd.concat([Fich_var, df], axis=1)\n",
        "          else:\n",
        "            if number_pr == 1:\n",
        "              Fich_var = pd.DataFrame(Fich_var_copy['x'])\n",
        "            else:\n",
        "              Fich = Fich_var_copy\n",
        "          X_train, _ , target_train, _ = train_test_split(Fich_var.to_numpy(), target_var.to_numpy(), test_size=0.3)\n",
        "          #type of regressor\n",
        "          regressor = MyLinearRegression()\n",
        "          \n",
        "          #fit\n",
        "          if regressor_type == 0:\n",
        "              regressor.fit(X_train, target_train)\n",
        "          else:\n",
        "              regressor.fit(X_train, target_train, lr = lr, max_iter = max_iter)\n",
        "\n",
        "          test_predictions = regressor.predict(X_test)\n",
        "          if first_var:\n",
        "              mid = test_predictions\n",
        "              first_var = False\n",
        "          else:\n",
        "              mid += test_predictions\n",
        "      mid /= num_var_iter\n",
        "      variance = None\n",
        "      first_var = True\n",
        "      for zzz in range(num_var_iter):\n",
        "          Fich_var, target_var, _, _ = make_dataset(num_elements)\n",
        "          Fich_var_copy = Fich_var.copy()\n",
        "          if number_pr > 2:\n",
        "            #Генерируем новые столбцы\n",
        "            new_elem = rand_size * np.random.randn(n, col)\n",
        "            names = [str(k) for k in range(col)]\n",
        "            df = pd.DataFrame(new_elem, columns=names, index=range(n))\n",
        "            Fich_var = pd.concat([Fich_var, df], axis=1)\n",
        "          else:\n",
        "            if number_pr == 1:\n",
        "              Fich_var = pd.DataFrame(Fich_var_copy['x'])\n",
        "            else:\n",
        "              Fich = Fich_var_copy\n",
        "          X_train, _ , target_train, _ = train_test_split(Fich_var.to_numpy(), target_var.to_numpy(), test_size=0.3)\n",
        "          #type of regressor\n",
        "          \n",
        "          regressor = MyLinearRegression()\n",
        "          \n",
        "          #fit\n",
        "          if regressor_type == 0:\n",
        "              regressor.fit(X_train, target_train)\n",
        "          else:\n",
        "              regressor.fit(X_train, target_train, lr = lr, max_iter = max_iter)\n",
        "          \n",
        "          test_predictions = regressor.predict(X_test)\n",
        "          if first_var:\n",
        "              variance = (test_predictions - mid) * (test_predictions - mid)\n",
        "              first_var = False\n",
        "          else:\n",
        "              variance += (test_predictions - mid) * (test_predictions - mid)\n",
        "      variance /= num_var_iter\n",
        "      variance_arr.append(variance.mean())\n",
        "\n",
        "      \n",
        "  if ret == 0:\n",
        "    return MSE_train, MSE_test, weights, inter, num_iter, variance_arr\n",
        "  elif ret == 1:\n",
        "    return MSE_train, MSE_test, num_iter, variance_arr\n",
        "  else:\n",
        "    return weights, inter, num_iter, variance_arr"
      ],
      "metadata": {
        "id": "Rvc54QiobkrA"
      },
      "execution_count": 33,
      "outputs": []
    },
    {
      "cell_type": "markdown",
      "source": [
        "#Исследование"
      ],
      "metadata": {
        "id": "Dx9yTVRX2TL_"
      }
    },
    {
      "cell_type": "code",
      "execution_count": 34,
      "metadata": {
        "id": "wRK-8q_UH8Rw"
      },
      "outputs": [],
      "source": [
        "#Объявим нужные переменные\n",
        "\n",
        "import warnings\n",
        "warnings.filterwarnings(\"ignore\")\n",
        "\n",
        "num_elements = 20\n",
        "Fich, target, left_border_plane, right_border_plane = make_dataset(num_elements)\n",
        "rand_size = (right_border_plane - left_border_plane) // 2\n",
        "\n",
        "n = round(num_elements * num_elements * 0.7)\n",
        "iters = [[0, 1000, 10]]\n",
        "iters = make_range(iters)"
      ]
    },
    {
      "cell_type": "code",
      "execution_count": 35,
      "metadata": {
        "colab": {
          "base_uri": "https://localhost:8080/",
          "height": 49,
          "referenced_widgets": [
            "69c0130d39f547ef81f53124ec994824",
            "ab1468425ef54fdb98c1c0af62f8e273",
            "63d20c7e5d3f44019a662cec5c03f297",
            "cd4fadb1f6294bae9adf342826d5ac12",
            "8741a2ed41ae4f2cb2477b11653ffb28",
            "3fd54f9f641e4f8f8e03c076e862e66e",
            "8e7bcc8fb42f45ee87c8f9ecfc3a1f7d",
            "2aa88361af8944ab839b2e875c97dd9d",
            "93c000ecb16e497c8ee056447464c0f1",
            "f8c015c28b2e42a1ae7fea28b64bad70",
            "8cdbeed09d264aa590bb316ee560fe3a"
          ]
        },
        "id": "_VFJJR8MHxmV",
        "outputId": "18cf1c0c-9861-4d51-e924-c9b5d4429919"
      },
      "outputs": [
        {
          "output_type": "display_data",
          "data": {
            "text/plain": [
              "  0%|          | 0/99 [00:00<?, ?it/s]"
            ],
            "application/vnd.jupyter.widget-view+json": {
              "version_major": 2,
              "version_minor": 0,
              "model_id": "69c0130d39f547ef81f53124ec994824"
            }
          },
          "metadata": {}
        }
      ],
      "source": [
        "#analitic\n",
        "MSE_train, MSE_test, weights, inter, num_iter, variance = MSE_and_weights(Fich, target, rand_size = rand_size, iters=iters, regressor_type = 0)\n",
        "#Найдем норму\n",
        "norm_analitic = []\n",
        "for w in weights:\n",
        "  norm_analitic.append(np.linalg.norm(w))\n",
        "\n",
        "answers_analitic = [MSE_train, MSE_test, weights, inter, num_iter, variance]"
      ]
    },
    {
      "cell_type": "code",
      "source": [
        "#Нарисуем график\n",
        "fig, ax = plt.subplots(nrows=1, ncols=4, figsize=(30, 10))\n",
        "ax[0].scatter(answers_analitic[4], norm_analitic, color='red', s = 2)\n",
        "ax[0].plot(answers_analitic[4], norm_analitic, color='red', label='analitic')\n",
        "ax[0].set(xlabel = 'GD/analitic weights norm')\n",
        "ax[0].set_yscale('log')\n",
        "ax[0].legend()\n",
        "\n",
        "\n",
        "ax[1].scatter(answers_analitic[4], answers_analitic[1], color = 'red', s = 2)\n",
        "ax[1].plot(answers_analitic[4], answers_analitic[1], color = 'red', label='analitic')\n",
        "ax[1].set(xlabel = 'GD/analitic MSE test')\n",
        "ax[1].legend()\n",
        "ax[1].set_yscale('log')\n",
        "\n",
        "ax[2].scatter(answers_analitic[4], answers_analitic[0], color = 'red', s = 2)\n",
        "ax[2].plot(answers_analitic[4], answers_analitic[0], color = 'red', label='analitic')\n",
        "ax[2].set(xlabel = 'GD/analitic MSE train')\n",
        "ax[2].legend()\n",
        "ax[2].set_yscale('log')\n",
        "\n",
        "ax[3].scatter(answers_analitic[4], answers_analitic[5], color = 'red', s = 2)\n",
        "ax[3].plot(answers_analitic[4], answers_analitic[5], color = 'red', label='analitic')\n",
        "ax[3].set(xlabel = 'variance')\n",
        "ax[3].legend()\n",
        "ax[3].set_yscale('log')\n",
        "plt.show()"
      ],
      "metadata": {
        "id": "6OXzjIkc1ing",
        "colab": {
          "base_uri": "https://localhost:8080/",
          "height": 560
        },
        "outputId": "9951ed8e-4fbf-40e0-c890-5f2c3f3d11d7"
      },
      "execution_count": 36,
      "outputs": [
        {
          "output_type": "display_data",
          "data": {
            "text/plain": [
              "<Figure size 2160x720 with 4 Axes>"
            ],
            "image/png": "[encoded data removed]"
          },
          "metadata": {
            "needs_background": "light"
          }
        }
      ]
    },
    {
      "cell_type": "markdown",
      "source": [
        "Можно посмотреть в приближении к нулю (где информативные признаки). Для решения задачи нужно 2 информативных признака, но обучение происходило на 1 признаке, на 2 признаках, а далее +10 (12, 22, и тд)"
      ],
      "metadata": {
        "id": "Wdwyyl2xFbV9"
      }
    },
    {
      "cell_type": "code",
      "source": [
        "num = 5\n",
        "answers_analitic = [answers_analitic[0][:num], answers_analitic[1][:num], answers_analitic[2][:num], answers_analitic[3][:num], answers_analitic[4][:num], answers_analitic[5][:num]]\n",
        "norm_analitic = norm_analitic[:num]\n",
        "#Нарисуем график\n",
        "fig, ax = plt.subplots(nrows=1, ncols=4, figsize=(30, 10))\n",
        "ax[0].scatter(answers_analitic[4], norm_analitic, color='red', s = 2)\n",
        "ax[0].plot(answers_analitic[4], norm_analitic, color='red', label='analitic')\n",
        "ax[0].set(xlabel = 'GD/analitic weights norm')\n",
        "ax[0].set_yscale('log')\n",
        "ax[0].legend()\n",
        "\n",
        "\n",
        "ax[1].scatter(answers_analitic[4], answers_analitic[1], color = 'red', s = 2)\n",
        "ax[1].plot(answers_analitic[4], answers_analitic[1], color = 'red', label='analitic')\n",
        "ax[1].set(xlabel = 'GD/analitic MSE test')\n",
        "ax[1].legend()\n",
        "ax[1].set_yscale('log')\n",
        "\n",
        "ax[2].scatter(answers_analitic[4], answers_analitic[0], color = 'red', s = 2)\n",
        "ax[2].plot(answers_analitic[4], answers_analitic[0], color = 'red', label='analitic')\n",
        "ax[2].set(xlabel = 'GD/analitic MSE train')\n",
        "ax[2].legend()\n",
        "ax[2].set_yscale('log')\n",
        "\n",
        "ax[3].scatter(answers_analitic[4], answers_analitic[5], color = 'red', s = 2)\n",
        "ax[3].plot(answers_analitic[4], answers_analitic[5], color = 'red', label='analitic')\n",
        "ax[3].set(xlabel = 'variance')\n",
        "ax[3].legend()\n",
        "ax[3].set_yscale('log')\n",
        "plt.show()"
      ],
      "metadata": {
        "id": "Y23YsVohFigx",
        "colab": {
          "base_uri": "https://localhost:8080/",
          "height": 556
        },
        "outputId": "994f90a1-03ad-416a-a8b0-363adabbcde5"
      },
      "execution_count": 37,
      "outputs": [
        {
          "output_type": "display_data",
          "data": {
            "text/plain": [
              "<Figure size 2160x720 with 4 Axes>"
            ],
            "image/png": "[encoded data removed]"
          },
          "metadata": {
            "needs_background": "light"
          }
        }
      ]
    }
  ]
}